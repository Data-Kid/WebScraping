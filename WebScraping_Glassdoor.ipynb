{
  "nbformat": 4,
  "nbformat_minor": 0,
  "metadata": {
    "colab": {
      "provenance": [],
      "toc_visible": true
    },
    "kernelspec": {
      "name": "python3",
      "display_name": "Python 3"
    },
    "language_info": {
      "name": "python"
    }
  },
  "cells": [
    {
      "cell_type": "markdown",
      "source": [
        "#1. Import Dependencies"
      ],
      "metadata": {
        "id": "rFUwQSr-Ya_m"
      }
    },
    {
      "cell_type": "code",
      "source": [
        "import requests\n",
        "from bs4 import BeautifulSoup\n",
        "import pandas as pd\n",
        "import math\n",
        "from google.colab import files"
      ],
      "metadata": {
        "id": "DOJmkAh-Y6MW"
      },
      "execution_count": null,
      "outputs": []
    },
    {
      "cell_type": "markdown",
      "source": [
        "#2. Function to scrape required data from url"
      ],
      "metadata": {
        "id": "ns4D3sOowBLq"
      }
    },
    {
      "cell_type": "code",
      "source": [
        "def webScraping(url):\n",
        "\n",
        "  Ratings = []\n",
        "  Summary = []\n",
        "  Date_JobTitle = []\n",
        "  Date = []\n",
        "  JobTitle = []\n",
        "  Pros = []\n",
        "  Cons = []\n",
        "\n",
        "  response = requests.get(url, headers = {'User-Agent': 'Mozilla/5.0'})\n",
        "  soup = BeautifulSoup(response.text, 'html.parser')\n",
        "\n",
        "  for x in soup.find_all('ol', class_ = ' empReviews emp-reviews-feed pl-0'):\n",
        "  \n",
        "    #employee rating\n",
        "    for i in x.find_all('span', class_ = 'ratingNumber mr-xsm'):\n",
        "      Ratings.append(i.text)\n",
        "\n",
        "    #summary\n",
        "    for i in x.find_all('h2', class_ = 'mb-xxsm mt-0 css-93svrw el6ke055'):\n",
        "      Summary.append(i.text)\n",
        "\n",
        "    #date_jobtitle\n",
        "    for i in x.find_all('span', class_ = 'middle common__EiReviewDetailsStyle__newGrey'):\n",
        "      Date_JobTitle.append(i.text)\n",
        "\n",
        "    #date\n",
        "    for i in Date_JobTitle:\n",
        "      Date.append(i.split(' -')[0])\n",
        "    \n",
        "    #job title\n",
        "    for i in Date_JobTitle:\n",
        "      JobTitle.append(i.split('- ')[1])\n",
        "\n",
        "    #pros\n",
        "    for i in x.find_all('span', {'data-test' : 'pros'}):\n",
        "      Pros.append(i.text)\n",
        "\n",
        "    #cons\n",
        "    for i in x.find_all('span', {'data-test' : 'cons'}):\n",
        "      Cons.append(i.text)\n",
        "    \n",
        "  #create pandas dateframe and store review details\n",
        "  Reviews = pd.DataFrame(list(zip(Summary, Ratings, Date, JobTitle, Pros, Cons)), columns = ['Summary', 'Ratings', 'Date', 'JobTitle', 'Pros', 'Cons'])\n",
        "\n",
        "  return Reviews"
      ],
      "metadata": {
        "id": "VFPuiIN5ngCw"
      },
      "execution_count": null,
      "outputs": []
    },
    {
      "cell_type": "code",
      "source": [
        "response = requests.get('https://www.glassdoor.com/Reviews/Amazon-Reviews-E6036.htm', headers = {'User-Agent': 'Mozilla/5.0'})\n",
        "response"
      ],
      "metadata": {
        "id": "umwN8YbPBC0A"
      },
      "execution_count": null,
      "outputs": []
    },
    {
      "cell_type": "code",
      "source": [
        "# get total pages based on total number of reviews\n",
        "soup = BeautifulSoup(response.text, 'html.parser')\n",
        "totalReviews = soup.find('div', class_ = 'paginationFooter').text\n",
        "totalReviews = int((totalReviews.split(' Reviews')[0].split('of ')[1]).replace(',',''))\n",
        "\n",
        "totalPages = math.ceil(totalReviews / 10)   #10 reviews per page"
      ],
      "metadata": {
        "id": "b7UUIcB8CGpJ"
      },
      "execution_count": null,
      "outputs": []
    },
    {
      "cell_type": "code",
      "source": [
        "FinalReviews = pd.DataFrame()\n",
        "url1 = 'https://www.glassdoor.com/Reviews/Amazon-Reviews-E6036_P1.htm?sort.sortType=RD&sort.ascending=false'\n",
        "FinalReviews = webScraping(url1)\n",
        "for i in range(2, 5):\n",
        "#for i in range(2, totalPages + 1):\n",
        "  input_url = f'https://www.glassdoor.com/Reviews/Amazon-Reviews-E6036_P{i}.htm?sort.sortType=RD&sort.ascending=false'\n",
        "  FinalReviews = FinalReviews.append(webScraping(input_url), ignore_index=True)"
      ],
      "metadata": {
        "id": "nrNSfFvfDcYJ"
      },
      "execution_count": null,
      "outputs": []
    },
    {
      "cell_type": "code",
      "source": [
        "display(FinalReviews)"
      ],
      "metadata": {
        "id": "p3GiwZxZEDTT"
      },
      "execution_count": null,
      "outputs": []
    },
    {
      "cell_type": "code",
      "source": [
        "# conver to csv file\n",
        "FinalReviews.to_csv('GlassdoorReviews.csv', index = False)"
      ],
      "metadata": {
        "id": "U-MF2fNIGUTg"
      },
      "execution_count": null,
      "outputs": []
    }
  ]
}